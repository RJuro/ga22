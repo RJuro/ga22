{
  "cells": [
    {
      "cell_type": "markdown",
      "metadata": {
        "id": "sYWtXpjppoWT"
      },
      "source": [
        "# BERTopic for Topic Modeling with CORDIS data.\n",
        "\n",
        "[BERTopic](https://maartengr.github.io/BERTopic/index.html) can be considered the current (2022) state of the art in topic modeling. You'll find the corresponding [paper here](https://arxiv.org/abs/2203.05794).\n",
        "It's advantage lies in a clever use of [sentence transfomers](https://www.sbert.net/) as well as dimensionality reduction and clustering (per default UMAP and HDBSCAN). \n",
        "Sentence transformers allow to encode natural language efficiently (also very large amounts). UMAP and HDBSCAN are two high-performance algorithms.\n",
        "The autor Maarten Grootendorst released a well documented and increasingly used package that implements all steps including useful visualization and representation tool.\n",
        "\n",
        "In this tutorial we will use the approach to identify topics in CORDIS data (EU FP and H2020 project results). \n",
        "This is a basic-application tutorial adjusted to work for \"smaller data\" (500 summaries) following [this tutorial](https://www.kaggle.com/code/maartengr/topic-modeling-arxiv-abstract-with-bertopic/notebook).\n",
        "\n",
        "Also: We are going to use a GPU enabled instance... You get very far with Google Colab (clear legal first)"
      ]
    },
    {
      "cell_type": "code",
      "execution_count": null,
      "metadata": {
        "colab": {
          "base_uri": "https://localhost:8080/"
        },
        "id": "XwUF2lYND9z-",
        "outputId": "6c7a70e9-a0df-423c-e2a8-c9ff112425e3"
      },
      "outputs": [],
      "source": [
        "# Start by installing the package (in quite mode)\n",
        "!pip install bertopic -q"
      ]
    },
    {
      "cell_type": "code",
      "execution_count": null,
      "metadata": {
        "id": "2V5XPKrLH9fO"
      },
      "outputs": [],
      "source": [
        "# Colab specific widget handling\n",
        "from google.colab import output\n",
        "output.enable_custom_widget_manager()"
      ]
    },
    {
      "cell_type": "code",
      "execution_count": null,
      "metadata": {
        "id": "SW3pZtBFEHi-"
      },
      "outputs": [],
      "source": [
        "# Load packages for the analysis\n",
        "import pandas as pd #handling / opening data\n",
        "import random #create random years (this table does not have clear years)\n",
        "\n",
        "from bertopic import BERTopic\n",
        "from hdbscan import HDBSCAN\n",
        "from umap import UMAP\n",
        "\n",
        "from sklearn.feature_extraction.text import CountVectorizer"
      ]
    },
    {
      "cell_type": "code",
      "execution_count": null,
      "metadata": {
        "id": "0nQoyLdCEcTc"
      },
      "outputs": [],
      "source": [
        "# Load report-data\n",
        "reports = pd.read_csv('https://github.com/SDS-AAU/SDS-master/raw/master/M2/data/cordis-h2020reports.gz')"
      ]
    },
    {
      "cell_type": "code",
      "execution_count": null,
      "metadata": {
        "id": "bUuAuiyauXkZ"
      },
      "outputs": [],
      "source": [
        "years = pd.to_datetime(reports.lastUpdateDate)"
      ]
    },
    {
      "cell_type": "code",
      "execution_count": null,
      "metadata": {
        "colab": {
          "base_uri": "https://localhost:8080/"
        },
        "id": "u7mlHqkkuryc",
        "outputId": "6e8ee60d-6088-4de5-9a74-799b6b39d72c"
      },
      "outputs": [],
      "source": [
        "set([y.year for y in years])"
      ]
    },
    {
      "cell_type": "code",
      "execution_count": null,
      "metadata": {
        "id": "T41QMYQ1LNYv"
      },
      "outputs": [],
      "source": [
        "# creating \"fake years\" for this tutorial...don't do that in a real analysis :-)\n",
        "reports['year'] = [random.choice(range(2010,2018)) for _ in range(len(reports))]"
      ]
    },
    {
      "cell_type": "code",
      "execution_count": null,
      "metadata": {
        "colab": {
          "base_uri": "https://localhost:8080/"
        },
        "id": "6dd9YDIVHEab",
        "outputId": "af17d7f7-050c-4288-d0c3-b02e67579117"
      },
      "outputs": [],
      "source": [
        "reports['summary']"
      ]
    },
    {
      "cell_type": "markdown",
      "metadata": {
        "id": "2_G2YNblvMhW"
      },
      "source": [
        "We need to specify a few things to make the approach work in our setting.\n",
        "This will involve:\n",
        "\n",
        "\n",
        "\n",
        "*   Use a custom vectorizer that will remove stop-words (e.g. the, and, to, I)\n",
        "*   Tweak UMAP and HDBSCAN to produce more and more specific clusters (check BERTopic FAQ and documentation)\n",
        "* Request use fo n-grams from BERTopics for \"reporting\"\n",
        "* use of specialized allenai-specter trasformer pretrained to deal with scientific text\n",
        "\n"
      ]
    },
    {
      "cell_type": "code",
      "execution_count": null,
      "metadata": {
        "id": "c1UFIh2mEd3J"
      },
      "outputs": [],
      "source": [
        "# custom vectorizer to get rid of stopwords\n",
        "vectorizer_model = CountVectorizer(stop_words=\"english\")\n",
        "\n",
        "# lower n_neighbors=3 value thatn standard 5 and lower n_components=3\n",
        "umap_model = UMAP(n_neighbors=3, n_components=3, \n",
        "                  min_dist=0.0, metric='cosine', random_state=42)\n",
        "\n",
        "# resuce min_cluster_size and min_samples\n",
        "hdbscan_model = HDBSCAN(min_cluster_size=20, metric='euclidean', \n",
        "                        cluster_selection_method='eom', prediction_data=True, min_samples=3)\n",
        "\n",
        "# specify all custom models and n_grams\n",
        "topic_model = BERTopic(verbose=True, \n",
        "                       embedding_model=\"allenai-specter\", \n",
        "                       n_gram_range=(2, 3), \n",
        "                       hdbscan_model=hdbscan_model, \n",
        "                       umap_model=umap_model,\n",
        "                       vectorizer_model=vectorizer_model)"
      ]
    },
    {
      "cell_type": "code",
      "execution_count": null,
      "metadata": {
        "colab": {
          "base_uri": "https://localhost:8080/",
          "height": 88,
          "referenced_widgets": [
            "59c4f997247b4cf8a13d148fae181dca",
            "fec4cbf653c44593b096ae7914425a89",
            "c9611eb121df4b8db7bca0c149c5728c",
            "9b605b59c41e40749439dd9d60957a84",
            "fa7767218b444e359a8d7ec704af8ab9",
            "9b8709f85e2b4a998396c58506b5c16a",
            "c396daf3240f410d9d884e53ba652847",
            "ba98e3fc38db4d198aa7ad1b98aa1f8d",
            "9bf956cf9a484ea7a054db25ed4cb3c7",
            "9b844fc9519e453f94f1f0f99206ae77",
            "73ffca30b8504013894428b5bdd0ff44",
            "a8114f144ea7411f98b972f05f6a5be8",
            "11f28b97591240fa9e79d81b029ad6b4",
            "915e71b24d6744df9f57293ff76d1845",
            "53c5ddccc59f42f5a0c4365310f0949f",
            "bf59bb74df1e4f108e49a0c206a5179d",
            "26ebcd37c6c942569f4be9efe7521965",
            "11c93995f73f435f976bd64d29da60ed",
            "150f79d4ce1840b6a996ddaedb990384",
            "deb6ea899334496e9c7515c8f6c14104",
            "75efd096c79544d4804ca2312206489e",
            "24140cf268ec4ace8e7189a7597dfdc3",
            "d9b75b31358b467dbbdfb56164f74b2e",
            "3aaf5402b1b24f1585656d4ce1172191",
            "384ae111fe424877b1e53e6796b8ae25",
            "3da7d0c195de4493a0aff2337a133bf3",
            "3062d1c62f744d309b805e047a8670fe",
            "d4d0384cd6ee4114a6ce000ca04b120c",
            "00cb43811a684a2aa65028d7a33ae02c",
            "462961e8ab134e0fa70f0cf594bde579",
            "9b2dc4221cf64d15896429be51a7f8e4",
            "e44df1df22134fb2b592d27d70795d4a",
            "5e2098516c9d4c61891f921a7d3c8ed3",
            "c4a40d096d1e426f953fb513669ec0e1",
            "054103e07bd14cf1a7beb5f6b2d431b1",
            "6a041a3cbb924e82adafe72a24b8b02b",
            "d516415703cf45948e246cf276b2fc36",
            "108fa2a93f3547adb31d2d0c8579f1f3",
            "1576525d69d14a929a2d7b68468ee6bc",
            "b54cbb903ee845cfa91a4453a1f9b7b9",
            "16e87986b2ac40078e6adc8c86d057db",
            "40f91b3e834443d2ad20bc2c4d0e1b6e",
            "ca6e6599064e487c9193148640c71ad2",
            "ee315231d2074d889ed7ac68df80f3fb",
            "74207862fc90463c9bbf2993bea89269",
            "9083bfe28cb248d4bfaf9df38ba796bf",
            "b26eb8abb7fe463e808bd15cc77ee022",
            "5200e2ff2b5549ecbabb730a35246128",
            "ce6b4229f24b48ecac0ed5b3e9ace9df",
            "f76531a22e1c4142ab596e654f049686",
            "b31e4ae039dd4c548af83c7a8cd28ff8",
            "f8b1b662f9574e78ba9e8108bc804e6c",
            "3f2d717f35174bd49aeaf6fed00855e5",
            "408c211979544732bafd1885ffdb78cb",
            "ac297e608b55434abd7d0dba5847a907",
            "58954cd95cb6460591adc59192d6b64f",
            "6072a26f194e420c8c2ce27dac3a822d",
            "40f19586935f4d908453391f4c6d7a62",
            "a1c41134ef5f42d787127fee8d8bae13",
            "dcdd7059106c4dad87ee9ca73ef0fcca",
            "64afcef024a14008b63089a274131bad",
            "ed4b4df75063404d8cd2ca3a35c68601",
            "1b1901347d65401d90524df6063107d8",
            "ec3b1037dc564ffeaccf0e0793e82d2b",
            "a6904f0034e84c1a8deabad49f00f420",
            "69bb5bdb3db3437da9dcef3a7f693022",
            "d5e94c40421d49b3bb31e90ce2bb42d3",
            "68b369d840144f56ac50a245a546cc5e",
            "00100eca108347ffbcd0ba1c618dc924",
            "f7edf3f9d8e0498da6fe35b27e1806fa",
            "1d7cde06da494e13bb9ebe1468440cb6",
            "9027456f66784e5a8e1f752af790fd46",
            "ab06af86c9f3464eb4ab31b553fae23a",
            "5d06b0691d5a4da4a11e5c2abc4e858e",
            "105ca1bb62e0433c9a82f08815656cd4",
            "f9dcf156d2864977b710a1093c352ba1",
            "09f602195bcb43358f7dd27d3a507060",
            "d2f9da8eb91a4b8a8b5588098e29ae9f",
            "96e64d4aa182414384be5e2467a06a08",
            "5d836d6db8914df3b8241ec95cdf928e",
            "d17776e0851342738178741f6e6ba4ee",
            "f8c96ec078d54696bc40c1539b184440",
            "c26b718399554bbe9092af74a79600fe",
            "35cbc0c2f1cb413b8ee0ddf11b30d4dd",
            "ad86564da8a242cda8f1df2db7497747",
            "3ed7f12da81d47ebafa0321c9deb6c0a",
            "ecf699f563e34715ab0d91acae0b6410",
            "cb6f6434dec94077ab11ded7daee078f",
            "09ff38e8d8f84b8cb5087de325d5bbfd",
            "bded9539fd734064a7b01d37656401d6",
            "6dc91ec1a00943e8a8aa3559bb71a1f4",
            "2aaa9db6ae7e41339ccb5992bc0c53b0",
            "afae2e598c61478e935220ee7c3430c2",
            "004135fe06454a408ff9bfb1abd3821c",
            "556faae2655948d79f238cb3e46909bf",
            "3f59c877b92e468da3b63e2ea422c1c7",
            "db9c955e7f7c47768f9480d210568609",
            "f08e093bc9cf4cbca64d03a85819adea",
            "ad7a1c238eb04c3fa18acbd3a90ff870",
            "1e3c6c5e6d4a4a8c8a197fdc4841dcbe",
            "78018943d1c24125ab3b550e23369adf",
            "5b45b834ef284c82bb62ebd873f35058",
            "f73bfd98112f458b955954c91933aa30",
            "7e7a551575f141458d36d0925ee1a1e8",
            "73dd315e0ceb4abf93ae6b58d4eb3fc7",
            "522d34b0e4cf4b899696c80bc839f027",
            "ee97c313fd374183abe1d883b9d6687c",
            "9feaef3b25d440f6b8d8dcf6c070531d",
            "c89a33438a2841fb8943bd70bf8d291a",
            "7b726873ff8f404ba52344017509645d",
            "79be376cec82473b8f146851972e620c",
            "6d2d1a8d52ed43d7896ab872b6a8e296",
            "38491d9b8d0d49329eae33dbca63d688",
            "3f7d3b69992d450aa64af02bcc4d6680",
            "8737be83ee8c4f3db28d42cc685db09e",
            "2f13b62f1cd14e3b91f52f80321c49b0",
            "136abb783110490ea320aa22a1322d18",
            "6adf188fdc3742548379696bff8f463b",
            "10eac482a0d1433b8603ac07430aa9fb",
            "4ca776345fda4c02aedef3942da19131",
            "2d07a3a39ab143cd9d7dfb987993578f",
            "d56f000ed4004413bb5ea2299c91fa19",
            "dcbdf3d7a633406784f1aca337dcb96a",
            "a570ea86e81547ceb1575aceab3a616e",
            "1afa23ebab9741e19c3f2667a94c52aa",
            "2a0b7e8b9d65426a98d89b9dde579d87",
            "83c51542ed964ac78e279eb07e04aacd",
            "ec5eff7948e44f9e82ffca73e7d2087d",
            "5f75e792ab3643788b4d666aed557d47",
            "defe014c7d3b4483ab0e5bfc34555b84",
            "bf3a9655751d466996dba60e2f280cde",
            "7a84653469db428d918088cc6d440b87",
            "cb49b0e3210d4798b90174b28ad80351",
            "76c030b81c5b422894922b337f7d1f3f",
            "13a109d25df7434caf773984e1d52ed0",
            "84624172e4634284950a376ff15ea387",
            "b9615ec53ce94aa788fdcc2531830780",
            "a5806073b61643888c7643d1f2f4a999",
            "99c2a77b5f4a4f60b196d4114a2f19bc",
            "69402471ea5d480d8f1c976b70bacbe4",
            "5bbb5fc8b0ca4e0ea9f02c230c8efffa",
            "e3a131fc10834e28bc92ec282e9244c4",
            "6dd5777b3fa64757adefb88a0c818dee"
          ]
        },
        "id": "CUcwH2gKEvm4",
        "outputId": "9b8f8fa7-eb8c-42fb-acc8-20085a0d415b"
      },
      "outputs": [],
      "source": [
        "# Run the modelnig\n",
        "topics, _ = topic_model.fit_transform(reports['summary']); len(topic_model.get_topic_info())"
      ]
    },
    {
      "cell_type": "markdown",
      "metadata": {
        "id": "j4JESj6uwWfk"
      },
      "source": [
        "the object `topics` is a vector with the cluster-numbers that can be used in other analysis..."
      ]
    },
    {
      "cell_type": "markdown",
      "metadata": {
        "id": "7IYbFsGPwu45"
      },
      "source": [
        "Below some built-in ways for exploring the results"
      ]
    },
    {
      "cell_type": "code",
      "execution_count": null,
      "metadata": {
        "colab": {
          "base_uri": "https://localhost:8080/",
          "height": 363
        },
        "id": "vtgrnKZvE3ad",
        "outputId": "69ba5fd4-5746-4cea-d51c-775c12203a66"
      },
      "outputs": [],
      "source": [
        "topic_model.get_topic_info().head(10)"
      ]
    },
    {
      "cell_type": "code",
      "execution_count": null,
      "metadata": {
        "colab": {
          "base_uri": "https://localhost:8080/",
          "height": 617
        },
        "id": "wdNFpYFSFGlN",
        "outputId": "1331dfe0-28d7-4802-f92b-f6a9ff92e84e"
      },
      "outputs": [],
      "source": [
        "topic_model.visualize_barchart(top_n_topics=9, height=200)"
      ]
    },
    {
      "cell_type": "code",
      "execution_count": null,
      "metadata": {
        "colab": {
          "base_uri": "https://localhost:8080/",
          "height": 667
        },
        "id": "NnGwH88qHibi",
        "outputId": "7703881d-44db-40a3-9680-b5165a2d8404"
      },
      "outputs": [],
      "source": [
        "topic_model.visualize_topics(top_n_topics=50)"
      ]
    },
    {
      "cell_type": "code",
      "execution_count": null,
      "metadata": {
        "colab": {
          "base_uri": "https://localhost:8080/",
          "height": 367
        },
        "id": "Q4o0gIiPJEO8",
        "outputId": "a77c0fd4-9f6c-4af8-9aa4-419f9dec4d84"
      },
      "outputs": [],
      "source": [
        "topic_model.visualize_hierarchy(top_n_topics=50, width=800)"
      ]
    },
    {
      "cell_type": "code",
      "execution_count": null,
      "metadata": {
        "colab": {
          "base_uri": "https://localhost:8080/",
          "height": 517
        },
        "id": "-w5_YsUVLowH",
        "outputId": "aaf05560-9351-49e1-fe78-bc2bf8451f80"
      },
      "outputs": [],
      "source": [
        "# dynamic analysis with \"fake years\"\n",
        "topics_over_time = topic_model.topics_over_time(reports['summary'], topics, reports['year'])\n",
        "topic_model.visualize_topics_over_time(topics_over_time, top_n_topics=20, width=900, height=500)"
      ]
    },
    {
      "cell_type": "markdown",
      "metadata": {
        "id": "hRAqCEN1w_9Z"
      },
      "source": [
        "You can also use BERTopic to generate embeddings and use them in other analysis...for instance some supervised task. However, it is probably easier to go directly to SBERT (sentence transformers)"
      ]
    },
    {
      "cell_type": "code",
      "execution_count": null,
      "metadata": {
        "id": "tKZO4Gy2KZ8R"
      },
      "outputs": [],
      "source": [
        "# create embeddings\n",
        "\n",
        "docs = topic_model.embedding_model.embed_documents(reports['summary'])"
      ]
    },
    {
      "cell_type": "code",
      "execution_count": null,
      "metadata": {
        "id": "Zs0-dPAzLCFH"
      },
      "outputs": [],
      "source": []
    }
  ],
  "metadata": {
    "accelerator": "GPU",
    "colab": {
      "authorship_tag": "ABX9TyMt4g8tx96Bsw7BzZhj+jKl",
      "collapsed_sections": [],
      "include_colab_link": true,
      "name": "BERTopic Cordis.ipynb",
      "provenance": []
    },
    "gpuClass": "standard",
    "kernelspec": {
      "display_name": "Python 3",
      "name": "python3"
    },
    "language_info": {
      "name": "python"
    }
  },
  "nbformat": 4,
  "nbformat_minor": 0
}
